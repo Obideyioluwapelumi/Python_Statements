{
 "cells": [
  {
   "cell_type": "code",
   "execution_count": 1,
   "id": "4b9168cf",
   "metadata": {},
   "outputs": [
    {
     "name": "stdout",
     "output_type": "stream",
     "text": [
      "This will print always\n"
     ]
    }
   ],
   "source": [
    "# if statement\n",
    "\n",
    "num = 10\n",
    "if num > 10:\n",
    "    print ('Number is positive')\n",
    "print(\"This will print always\")"
   ]
  },
  {
   "cell_type": "code",
   "execution_count": null,
   "id": "c8253d05",
   "metadata": {},
   "outputs": [],
   "source": [
    "# if statement\n",
    "\n",
    "num = 10\n",
    "if num == 10:\n",
    "    print ('Number is positive')\n",
    "print(\"This will print always\")"
   ]
  },
  {
   "cell_type": "code",
   "execution_count": null,
   "id": "53bf0eca",
   "metadata": {},
   "outputs": [],
   "source": [
    "# if statement\n",
    "\n",
    "num = 10\n",
    "if num > 10:\n",
    "    print ('Number is positive')\n",
    "else:\n",
    "    print(\"Number is negative\")"
   ]
  },
  {
   "cell_type": "code",
   "execution_count": null,
   "id": "18853769",
   "metadata": {},
   "outputs": [],
   "source": [
    "# elif statement\n",
    "\n",
    "num = -10\n",
    "if num > 0:\n",
    "    print ('Number is positive')\n",
    "elif num == 0:\n",
    "    print (\"zero\")\n",
    "else:\n",
    "    print(\"Number is negative\")"
   ]
  },
  {
   "cell_type": "code",
   "execution_count": null,
   "id": "a76a3a53",
   "metadata": {},
   "outputs": [],
   "source": [
    "age = 39\n",
    "\n",
    "if age <= 5:\n",
    "    print(\"Kid\")\n",
    "elif age > 5 and age < 13:\n",
    "    print(\"Pupil\")\n",
    "elif age >= 13 and age < 20:\n",
    "    print(\"teenager\")\n",
    "elif age >= 20 and age <= 35:\n",
    "    print('youth')\n",
    "elif age > 35 and age < 45:\n",
    "    print(\"grown\")\n",
    "elif age >= 45 and age < 60:\n",
    "    print(\"Adult\")\n",
    "elif age >= 60:\n",
    "    print (\"Aged\")\n",
    "else:\n",
    "    print(\"Undefined\")"
   ]
  },
  {
   "cell_type": "code",
   "execution_count": null,
   "id": "636c8f61",
   "metadata": {},
   "outputs": [],
   "source": [
    "age = int(input())\n",
    "\n",
    "if age <= 5:\n",
    "    print(\"Kid\")\n",
    "elif age > 5 and age < 13:\n",
    "    print(\"Pupil\")\n",
    "elif age >= 13 and age < 20:\n",
    "    print(\"teenager\")\n",
    "elif age >= 20 and age <= 35:\n",
    "    print('youth')\n",
    "elif age > 35 and age < 45:\n",
    "    print(\"grown\")\n",
    "elif age >= 45 and age < 60:\n",
    "    print(\"Adult\")\n",
    "elif age >= 60:\n",
    "    print (\"Aged\")\n",
    "else:\n",
    "    print(\"Undefined\")"
   ]
  },
  {
   "cell_type": "code",
   "execution_count": null,
   "id": "2a2beb42",
   "metadata": {},
   "outputs": [],
   "source": [
    "age = int(input())\n",
    "age1 = int(input())\n",
    "age2 = int(input())\n",
    "\n",
    "if age <= 5:\n",
    "    print(\"Kid\")\n",
    "elif age > 5 and age < 13:\n",
    "    print(\"Pupil\")\n",
    "elif age >= 13 and age < 20:\n",
    "    print(\"teenager\")\n",
    "elif age >= 20 and age <= 35:\n",
    "    print('youth')\n",
    "elif age > 35 and age < 45:\n",
    "    print(\"grown\")\n",
    "elif age >= 45 and age < 60:\n",
    "    print(\"Adult\")\n",
    "elif age >= 60:\n",
    "    print (\"Aged\")\n",
    "else:\n",
    "    print(\"Undefined\")"
   ]
  },
  {
   "cell_type": "code",
   "execution_count": null,
   "id": "8d3a7d21",
   "metadata": {},
   "outputs": [],
   "source": [
    "# While Loop\n",
    "# it is used to iterate over a block of codeas long as\n",
    "#the text expression is true\n",
    "\n",
    "# while text_expression:\n",
    "print (\"while loop\")"
   ]
  },
  {
   "cell_type": "code",
   "execution_count": null,
   "id": "fb04b72d",
   "metadata": {},
   "outputs": [],
   "source": [
    "# Find product of all numbers present in a list\n",
    "\n",
    "lst = [1, 2, 3, 4, 5, 6, 7, 8, 9, 10]\n",
    "\n",
    "num = 1\n",
    "num1 = 0\n",
    "\n",
    "while num1 < len(lst):\n",
    "    num *= lst[num1]\n",
    "    num1 += 1\n",
    "    \n",
    "print(\"Product is: {}\".format(num))"
   ]
  },
  {
   "cell_type": "code",
   "execution_count": null,
   "id": "e50c2e8b",
   "metadata": {},
   "outputs": [],
   "source": [
    "# while loop\n",
    "\n",
    "lst = [10, 20, 30, 40, 50]\n",
    "\n",
    "product = 2\n",
    "index = 3\n",
    "\n",
    "while index < len(lst):\n",
    "    product *= lst[index]\n",
    "    index += 1\n",
    "    \n",
    "print(\"Product is: {}\".format(product))"
   ]
  },
  {
   "cell_type": "code",
   "execution_count": null,
   "id": "c77003ca",
   "metadata": {},
   "outputs": [],
   "source": [
    "# while loop\n",
    "\n",
    "lst = [1, 20, 30, 40, 50]\n",
    "\n",
    "Sum = 2\n",
    "index = 0\n",
    "\n",
    "while index < len(lst):\n",
    "    Sum += lst[index]\n",
    "    index += 1\n",
    "    \n",
    "print(\"Sum is: {}\".format(Sum))"
   ]
  },
  {
   "cell_type": "code",
   "execution_count": null,
   "id": "5a34c079",
   "metadata": {},
   "outputs": [],
   "source": [
    "# while loop\n",
    "# do not forget to always include the increment \n",
    "# i.e index += 1 \n",
    "# or else it prints infinite number\n",
    "\n",
    "\n",
    "lst = [1, 20, 30, 40, 50]\n",
    "\n",
    "Sum = 2\n",
    "index = 0\n",
    "\n",
    "while index < len(lst):\n",
    "    Sum += lst[index]\n",
    "    index += 1\n",
    "    \n",
    "print(\"Sum is: {}\".format(Sum))"
   ]
  },
  {
   "cell_type": "code",
   "execution_count": null,
   "id": "bfb783fc",
   "metadata": {},
   "outputs": [],
   "source": [
    "print('\\n\\n\\n\\n\\n\\npython program to check given number is prime number or not\\n\\n\\n\\n\\n\\n')"
   ]
  },
  {
   "cell_type": "code",
   "execution_count": null,
   "id": "402081bf",
   "metadata": {},
   "outputs": [],
   "source": [
    "num = int(input('enter a number'))\n",
    "\n",
    "isdivisible = False;\n",
    "\n",
    "i = 2;\n",
    "while i < num:\n",
    "    if num % i == 0:\n",
    "        isdivisible = False\n",
    "        print(\"{} is divisible by {}\".format(num,i))\n",
    "        i += 1;\n",
    "if isdivisible:\n",
    "    print(\"{} is Not a prime number\".format(num))\n",
    "else:\n",
    "    print('{} is a prime number'.format(num))"
   ]
  },
  {
   "cell_type": "code",
   "execution_count": null,
   "id": "d7576830",
   "metadata": {},
   "outputs": [],
   "source": [
    "num = int(input('enter a number'))\n",
    "\n",
    "isdivisible = False;\n",
    "\n",
    "i = 2;\n",
    "while i < num:\n",
    "    if num % i == 0:\n",
    "        isdivisible = False\n",
    "        print(\"{} is divisible by {}\".format(num,i))\n",
    "        i += 1;\n",
    "if isdivisible:\n",
    "    print(\"{} is Not a prime number\".format(num))\n",
    "else:\n",
    "    print('{} is a prime number'.format(num))"
   ]
  }
 ],
 "metadata": {
  "kernelspec": {
   "display_name": "Python 3 (ipykernel)",
   "language": "python",
   "name": "python3"
  },
  "language_info": {
   "codemirror_mode": {
    "name": "ipython",
    "version": 3
   },
   "file_extension": ".py",
   "mimetype": "text/x-python",
   "name": "python",
   "nbconvert_exporter": "python",
   "pygments_lexer": "ipython3",
   "version": "3.9.13"
  }
 },
 "nbformat": 4,
 "nbformat_minor": 5
}
